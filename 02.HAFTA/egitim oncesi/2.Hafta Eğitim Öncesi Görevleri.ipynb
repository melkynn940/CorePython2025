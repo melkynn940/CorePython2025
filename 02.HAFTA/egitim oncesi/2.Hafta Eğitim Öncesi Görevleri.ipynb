{
 "cells": [
  {
   "cell_type": "markdown",
   "metadata": {
    "id": "tn8GZg8pTGFf"
   },
   "source": [
    "### Soru 1 \n",
    "Yazılımcıların bir dili öğrenmeye başladığında ilk yapacakları şey ekrana \"Hello World\" yazdırmaktır. Python'da da aynı şeyi yapalım.Bir yazılımcı aşağıdaki kodu yazarken hata yapıyor. Bunu düzelterek çalışan bir kod yazalım.\n"
   ]
  },
  {
   "cell_type": "code",
   "execution_count": 1,
   "metadata": {
    "id": "bt_InlLMTGGF"
   },
   "outputs": [
    {
     "name": "stdout",
     "output_type": "stream",
     "text": [
      "Hello World\n"
     ]
    }
   ],
   "source": [
    "print (\"Hello World\")"
   ]
  },
  {
   "cell_type": "markdown",
   "metadata": {
    "id": "t9Rh_pt2TGGL"
   },
   "source": [
    "### Soru 2\n",
    "İki YetGen'li zirvede karşılaşıyor. Zirvede birbirleriyle Python standında konuşurken YetGen Jump Python renginin ne olduğunu konuşurken bir YetGen lideri **logo** değişkenine atayıp ekrana bastırmalarını istiyor. Onlara bu noktada yardımcı olur musun?"
   ]
  },
  {
   "cell_type": "code",
   "execution_count": 2,
   "metadata": {
    "id": "RI1LXAWhTGGO"
   },
   "outputs": [
    {
     "name": "stdout",
     "output_type": "stream",
     "text": [
      "YetGen Jump Python\n"
     ]
    }
   ],
   "source": [
    "logo=\"YetGen Jump Python\"\n",
    "print(logo)"
   ]
  },
  {
   "cell_type": "markdown",
   "metadata": {
    "id": "g0lXs2PTTGGR"
   },
   "source": [
    "### Soru 3\n",
    "Dairenin alanını hesaplayan bir Python kodu yazınız. pi sayısını 3.14 olarak alınız ve yarıçapını kullanıcıdan alınız. Sonucu ekrana bastırınız."
   ]
  },
  {
   "cell_type": "code",
   "execution_count": 11,
   "metadata": {},
   "outputs": [
    {
     "name": "stdout",
     "output_type": "stream",
     "text": [
      "Dairenin yarıçapı: 5\n",
      "78.5\n"
     ]
    }
   ],
   "source": [
    "r=int(input(\"Dairenin yarıçapını giriniz: \"))\n",
    "print( \"Dairenin yarıçapı:\" , r)\n",
    "print(3.14 * r* r)\n",
    "\n"
   ]
  },
  {
   "cell_type": "markdown",
   "metadata": {
    "id": "cPMMpdJzTGGV"
   },
   "source": [
    "### Soru 4\n",
    "x ve y adında iki liste oluşturunuz. Bu listeleri birbiryle yer değiştirerek yazdırınız.\n",
    "\n",
    "```python\n",
    "x = [1,2,3,4,5]\n",
    "y = [5,4,3,2,1]\n",
    "``` \n",
    "\n",
    "```python\t\n",
    "Output:\n",
    "x = [5, 4, 3, 2, 1]\n",
    "y = [1, 2, 3, 4, 5]\n",
    "```"
   ]
  },
  {
   "cell_type": "code",
   "execution_count": 19,
   "metadata": {},
   "outputs": [
    {
     "name": "stdout",
     "output_type": "stream",
     "text": [
      "x= [50, 60, 70, 80]\n",
      "y= [10, 20, 30, 40]\n"
     ]
    }
   ],
   "source": [
    "x = [10,20,30,40]\n",
    "y = [50,60,70,80]\n",
    "print(\"x=\", y)\n",
    "print(\"y=\", x)"
   ]
  },
  {
   "cell_type": "markdown",
   "metadata": {
    "id": "vhKsciz1TGGY"
   },
   "source": [
    "### Soru 5\n",
    "Aşağıda verilen kod satırının sonuncunu 1 olacak şekilde düzenleyiniz."
   ]
  },
  {
   "cell_type": "code",
   "execution_count": 21,
   "metadata": {
    "id": "aAgU4SaSTGGb"
   },
   "outputs": [
    {
     "name": "stdout",
     "output_type": "stream",
     "text": [
      "1\n"
     ]
    }
   ],
   "source": [
    "print((5 - 3)// 2)"
   ]
  },
  {
   "cell_type": "markdown",
   "metadata": {
    "id": "kRHlU52YTGGe"
   },
   "source": [
    "### Soru 6\n",
    "Aşağıdaki kod satırının sonuncusunu 0 olacak şekilde düzenleyiniz."
   ]
  },
  {
   "cell_type": "code",
   "execution_count": 22,
   "metadata": {
    "id": "SQfEo_XTTGGg"
   },
   "outputs": [
    {
     "name": "stdout",
     "output_type": "stream",
     "text": [
      "0\n"
     ]
    }
   ],
   "source": [
    "print(8 - 3 * 2 - (1 + 1))"
   ]
  },
  {
   "cell_type": "markdown",
   "metadata": {
    "id": "tpixAZXyTGGi"
   },
   "source": [
    "### Soru 7\n",
    "YetGen liderlerinden Berkcan, Emirhan ve Eslem, Ramazan Bayramı'nda topladıkları şekerlerini bir araya getirmeyi ve kendi aralarında eşit olarak paylaşmayı kabul ettiler.\n",
    "Eşit paylaşım yapıldıktan sonra kalan şekerler parçalanacak. Örneğin, eğer toplamda 91 şekerleri varsa , her biri 30 tane alıp kalan 1 tane şekeri parçalayacaklar.\n",
    "Kaç tane şekeri parçalayacaklarını hesaplayan bir Python kodu yazınız."
   ]
  },
  {
   "cell_type": "code",
   "execution_count": 18,
   "metadata": {
    "id": "O75NG8MaTGGk"
   },
   "outputs": [
    {
     "name": "stdout",
     "output_type": "stream",
     "text": [
      "Şeker sayısı: 91\n",
      "Parçalanacak şeker sayısı: 1\n"
     ]
    }
   ],
   "source": [
    "seker=int(input(\"Şeker sayısını giriniz:\"))\n",
    "print(\"Şeker sayısı:\", seker)\n",
    "print(\"Parçalanacak şeker sayısı:\", seker%3) \n",
    "\n"
   ]
  },
  {
   "cell_type": "code",
   "execution_count": null,
   "metadata": {},
   "outputs": [],
   "source": []
  }
 ],
 "metadata": {
  "colab": {
   "provenance": []
  },
  "kernelspec": {
   "display_name": "Python 3",
   "language": "python",
   "name": "python3"
  },
  "language_info": {
   "codemirror_mode": {
    "name": "ipython",
    "version": 3
   },
   "file_extension": ".py",
   "mimetype": "text/x-python",
   "name": "python",
   "nbconvert_exporter": "python",
   "pygments_lexer": "ipython3",
   "version": "3.13.2"
  },
  "orig_nbformat": 4
 },
 "nbformat": 4,
 "nbformat_minor": 0
}
